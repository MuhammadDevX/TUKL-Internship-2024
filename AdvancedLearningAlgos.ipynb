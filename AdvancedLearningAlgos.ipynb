{
  "nbformat": 4,
  "nbformat_minor": 0,
  "metadata": {
    "colab": {
      "provenance": []
    },
    "kernelspec": {
      "name": "python3",
      "display_name": "Python 3"
    },
    "language_info": {
      "name": "python"
    }
  },
  "cells": [
    {
      "cell_type": "code",
      "source": [],
      "metadata": {
        "id": "AKnDeGfCN2Lj"
      },
      "execution_count": null,
      "outputs": []
    },
    {
      "cell_type": "code",
      "execution_count": null,
      "metadata": {
        "id": "9r_xRh-dNx4z"
      },
      "outputs": [],
      "source": [
        "import numpy as np\n",
        "#first of all like always I shall import the stuff\n",
        "import matplotlib.pyplot as plt\n",
        "# tensorflow library has been used for creating layers in this neural network\n",
        "import tensorflow as tf\n",
        "# from tf.keras.layers import Dense, Input\n",
        "# from tf.keras import Sequential\n",
        "# from tf.keras.losses import MeanSquaredError, BinaryCrossentropy\n",
        "# from tf.keras.activations import sigmoid\n",
        "#logging ->  numpy as np-> matplotlib.pyplot as plt -> tensorflow as tf\n",
        "import logging\n",
        "logging.getLogger(\"tensorflow\").setLevel(logging.ERROR)\n",
        "tf.autograph.set_verbosity(0)"
      ]
    },
    {
      "cell_type": "code",
      "source": [
        "X_train = np.array([[1.0], [2.0]], dtype=np.float32)           #(size in 1000 square feet)\n",
        "Y_train = np.array([[300.0], [500.0]], dtype=np.float32)       #(price in 1000s of dollars)\n",
        "# this is the training set\n",
        "fig, ax = plt.subplots(1,1)\n",
        "ax.scatter(X_train, Y_train, marker='x', c='r', label=\"Data Points\")\n",
        "ax.legend( fontsize='xx-large')\n",
        "ax.set_ylabel('Price (in 1000s of dollars)', fontsize='xx-large')\n",
        "ax.set_xlabel('Size (1000 sqft)', fontsize='xx-large')\n",
        "\n",
        "plt.show()"
      ],
      "metadata": {
        "colab": {
          "base_uri": "https://localhost:8080/",
          "height": 459
        },
        "id": "VjHM2comN3G2",
        "outputId": "306a1cd9-6067-4f64-e8ff-301c431d5b9d"
      },
      "execution_count": null,
      "outputs": [
        {
          "output_type": "display_data",
          "data": {
            "text/plain": [
              "<Figure size 640x480 with 1 Axes>"
            ],
            "image/png": "[encoded data removed]"
          },
          "metadata": {}
        }
      ]
    },
    {
      "cell_type": "code",
      "source": [
        "# so this is the first line of code that I am going to learn for tensor flow\n",
        "# linear_layer which is f_wb = w.x + b\n",
        "# tf -> keras -> layers -> Dense (units = number of layers, activation which is the output type of layer)\n",
        "linear_layer = tf.keras.layers.Dense(units=1, activation = 'linear', )\n",
        "# just a basic example of a layer"
      ],
      "metadata": {
        "id": "xAnUA63dOURy"
      },
      "execution_count": null,
      "outputs": []
    },
    {
      "cell_type": "code",
      "source": [
        "linear_layer.get_weights()\n",
        "\n",
        "#here I try to check the weights which should be empty as no data set has been given to it"
      ],
      "metadata": {
        "colab": {
          "base_uri": "https://localhost:8080/"
        },
        "id": "QwwTej_vOX1M",
        "outputId": "53a2fd31-9278-44bd-f69d-02a3a240540c"
      },
      "execution_count": null,
      "outputs": [
        {
          "output_type": "execute_result",
          "data": {
            "text/plain": [
              "[]"
            ]
          },
          "metadata": {},
          "execution_count": 59
        }
      ]
    },
    {
      "cell_type": "code",
      "source": [
        "# here lets give it some training set\n",
        "# allow it to compute weight for data 1\n",
        "# use the name of the layer and along with that in the paranthesis write the data which you want to compute\n",
        "a1 = linear_layer(X_train[0].reshape(1,1))\n",
        "print(a1)"
      ],
      "metadata": {
        "colab": {
          "base_uri": "https://localhost:8080/"
        },
        "id": "miStJW58ObES",
        "outputId": "9ba4ea3e-156b-4e03-ac09-323ba64293ed"
      },
      "execution_count": null,
      "outputs": [
        {
          "output_type": "stream",
          "name": "stdout",
          "text": [
            "tf.Tensor([[0.]], shape=(1, 1), dtype=float32)\n"
          ]
        }
      ]
    },
    {
      "cell_type": "code",
      "source": [
        "\n",
        "w, b= linear_layer.get_weights()\n",
        "# as we can see this is the same as above\n",
        "print(f\"w = {w}, b={b}\")"
      ],
      "metadata": {
        "colab": {
          "base_uri": "https://localhost:8080/"
        },
        "id": "vGKYFoxMO3MS",
        "outputId": "80fc5cf1-0925-4f61-f815-9bc0151aff6c"
      },
      "execution_count": null,
      "outputs": [
        {
          "output_type": "stream",
          "name": "stdout",
          "text": [
            "w = [[-0.60035944]], b=[0.]\n"
          ]
        }
      ]
    },
    {
      "cell_type": "code",
      "source": [
        "set_w = np.array([[200]])\n",
        "set_b = np.array([100])\n",
        "# lets start doing our regression thing and set some initial values for w and b\n",
        "# set_weights takes a list of numpy arrays\n",
        "linear_layer.set_weights([set_w, set_b])\n",
        "# so another thing that I just learnt was that the linear_layer is just going to apply the formula and not calculate the weights for us like scikit\n",
        "print(linear_layer.get_weights())"
      ],
      "metadata": {
        "colab": {
          "base_uri": "https://localhost:8080/"
        },
        "id": "xmykj4lPPAHK",
        "outputId": "4afc4ec7-f4aa-4566-8dc4-6a0a8332ce8b"
      },
      "execution_count": null,
      "outputs": [
        {
          "output_type": "stream",
          "name": "stdout",
          "text": [
            "[array([[200.]], dtype=float32), array([100.], dtype=float32)]\n"
          ]
        }
      ]
    },
    {
      "cell_type": "code",
      "source": [
        "a1 = linear_layer(X_train[0].reshape(1,1))\n",
        "print(a1)\n",
        "# JUST TO  check we compare the linear_layer == tf.keras.layers.Dense(units = , activation = )\n",
        "alin = np.dot(set_w,X_train[0].reshape(1,1)) + set_b\n",
        "print(alin)"
      ],
      "metadata": {
        "colab": {
          "base_uri": "https://localhost:8080/"
        },
        "id": "q07DnszgP_Nj",
        "outputId": "e60a9118-7847-4e86-bc31-2f29988a6f84"
      },
      "execution_count": null,
      "outputs": [
        {
          "output_type": "stream",
          "name": "stdout",
          "text": [
            "tf.Tensor([[100.]], shape=(1, 1), dtype=float32)\n",
            "[[100.]]\n"
          ]
        }
      ]
    },
    {
      "cell_type": "code",
      "source": [
        "# now lets check it for the whole of the data set along with the other values of w and b\n",
        "prediction_tf = linear_layer(X_train)\n",
        "prediction_np = np.dot( X_train, set_w) + set_b\n",
        "print(prediction_tf)\n",
        "print(prediction_np)"
      ],
      "metadata": {
        "colab": {
          "base_uri": "https://localhost:8080/"
        },
        "id": "aY5m-gndQIbh",
        "outputId": "6e5b7cf0-f265-471c-ec8c-0dd90511e6cd"
      },
      "execution_count": null,
      "outputs": [
        {
          "output_type": "stream",
          "name": "stdout",
          "text": [
            "tf.Tensor(\n",
            "[[ 100.]\n",
            " [ 300.]\n",
            " [ 500.]\n",
            " [ 700.]\n",
            " [ 900.]\n",
            " [1100.]], shape=(6, 1), dtype=float32)\n",
            "[[ 100.]\n",
            " [ 300.]\n",
            " [ 500.]\n",
            " [ 700.]\n",
            " [ 900.]\n",
            " [1100.]]\n"
          ]
        }
      ]
    },
    {
      "cell_type": "code",
      "source": [
        "X_train = np.array([0., 1, 2, 3, 4, 5], dtype=np.float32).reshape(-1,1)  # 2-D Matrix\n",
        "Y_train = np.array([0,  0, 0, 1, 1, 1], dtype=np.float32).reshape(-1,1)  # 2-D Matrix"
      ],
      "metadata": {
        "id": "9aoz84tFQKlU"
      },
      "execution_count": null,
      "outputs": []
    },
    {
      "cell_type": "code",
      "source": [
        "pos = Y_train == 1\n",
        "neg = Y_train == 0\n",
        "X_train[pos]\n",
        "\n",
        "# remember this is crucial you hadnt done this\n",
        "# this is actually a smart way to iterate for only those items which have a condition"
      ],
      "metadata": {
        "colab": {
          "base_uri": "https://localhost:8080/"
        },
        "id": "mO1gyYCCQMZ8",
        "outputId": "1a261276-eac1-49cd-b02e-a9241d463f0d"
      },
      "execution_count": null,
      "outputs": [
        {
          "output_type": "execute_result",
          "data": {
            "text/plain": [
              "array([3., 4., 5.], dtype=float32)"
            ]
          },
          "metadata": {},
          "execution_count": 76
        }
      ]
    },
    {
      "cell_type": "code",
      "source": [
        "pos = Y_train == 1\n",
        "neg = Y_train == 0\n",
        "\n",
        "fig,ax = plt.subplots(1,1,figsize=(4,3))\n",
        "ax.scatter(X_train[pos], Y_train[pos], marker='x', s=80, c = 'red', label=\"y=1\")\n",
        "ax.scatter(X_train[neg], Y_train[neg], marker='o', s=100, label=\"y=0\", facecolors='none',\n",
        "              edgecolors=\"blue\",lw=3)\n",
        "\n",
        "ax.set_ylim(-0.08,1.1)\n",
        "ax.set_ylabel('y', fontsize=12)\n",
        "ax.set_xlabel('x', fontsize=12)\n",
        "ax.set_title('one variable plot')\n",
        "ax.legend(fontsize=12)\n",
        "plt.show()"
      ],
      "metadata": {
        "colab": {
          "base_uri": "https://localhost:8080/",
          "height": 337
        },
        "id": "VOpV0vmtS6cA",
        "outputId": "24e88ab1-4c1d-46ac-86ff-9c7023b04742"
      },
      "execution_count": null,
      "outputs": [
        {
          "output_type": "display_data",
          "data": {
            "text/plain": [
              "<Figure size 400x300 with 1 Axes>"
            ],
            "image/png": "[encoded data removed]"
          },
          "metadata": {}
        }
      ]
    },
    {
      "cell_type": "code",
      "source": [
        "model = tf.keras.Sequential(\n",
        "    [\n",
        "        tf.keras.layers.Dense(1, input_dim=1,  activation = 'sigmoid', name='L1')\n",
        "    ]\n",
        ")\n",
        "\n",
        "# ok so here the actual thing is going to start First we create a sequence"
      ],
      "metadata": {
        "id": "5tUHmX4zTPUG"
      },
      "execution_count": null,
      "outputs": []
    },
    {
      "cell_type": "code",
      "source": [
        "model.summary()"
      ],
      "metadata": {
        "colab": {
          "base_uri": "https://localhost:8080/"
        },
        "id": "2YVAeNbGTyH4",
        "outputId": "b1d407e9-0025-496f-e284-9aa029d81c68"
      },
      "execution_count": null,
      "outputs": [
        {
          "output_type": "stream",
          "name": "stdout",
          "text": [
            "Model: \"sequential\"\n",
            "_________________________________________________________________\n",
            " Layer (type)                Output Shape              Param #   \n",
            "=================================================================\n",
            " L1 (Dense)                  (None, 1)                 2         \n",
            "                                                                 \n",
            "=================================================================\n",
            "Total params: 2 (8.00 Byte)\n",
            "Trainable params: 2 (8.00 Byte)\n",
            "Non-trainable params: 0 (0.00 Byte)\n",
            "_________________________________________________________________\n"
          ]
        }
      ]
    },
    {
      "cell_type": "code",
      "source": [
        "\n",
        "\n",
        "logistic_layer = model.get_layer('L1')\n",
        "# so here we see that we can get a layer by\n",
        "w,b = logistic_layer.get_weights()\n",
        "print(w,b)\n",
        "print(w.shape,b.shape)"
      ],
      "metadata": {
        "colab": {
          "base_uri": "https://localhost:8080/"
        },
        "id": "BEbIaWh3UFHY",
        "outputId": "c6b9f1f6-9c74-4432-de00-d6ffe0eff6c9"
      },
      "execution_count": null,
      "outputs": [
        {
          "output_type": "stream",
          "name": "stdout",
          "text": [
            "[[2.]] [-4.5]\n",
            "(1, 1) (1,)\n"
          ]
        }
      ]
    },
    {
      "cell_type": "code",
      "source": [
        "set_w = np.array([[2]])\n",
        "set_b = np.array([-4.5])\n",
        "# set_weights takes a list of numpy arrays\n",
        "logistic_layer.set_weights([set_w, set_b])\n",
        "print(logistic_layer.get_weights())"
      ],
      "metadata": {
        "colab": {
          "base_uri": "https://localhost:8080/"
        },
        "id": "p8JY3wVlUORo",
        "outputId": "7bc8bb67-4a9a-475d-cbb2-f55e5d402031"
      },
      "execution_count": null,
      "outputs": [
        {
          "output_type": "stream",
          "name": "stdout",
          "text": [
            "[array([[2.]], dtype=float32), array([-4.5], dtype=float32)]\n"
          ]
        }
      ]
    },
    {
      "cell_type": "code",
      "source": [
        "a1 = model.predict(X_train[0].reshape(1,1))\n",
        "print(a1)\n",
        "alog = tf.keras.activations.sigmoid(np.dot(set_w,X_train[0].reshape(1,1)) + set_b)\n",
        "print(alog)"
      ],
      "metadata": {
        "colab": {
          "base_uri": "https://localhost:8080/"
        },
        "id": "8hN4bVNkVSo4",
        "outputId": "36d3e15c-24e9-4e0a-9717-23a79ba12463"
      },
      "execution_count": null,
      "outputs": [
        {
          "output_type": "stream",
          "name": "stdout",
          "text": [
            "1/1 [==============================] - 0s 32ms/step\n",
            "[[0.01098694]]\n",
            "tf.Tensor([[0.01098694]], shape=(1, 1), dtype=float64)\n"
          ]
        }
      ]
    },
    {
      "cell_type": "code",
      "source": [],
      "metadata": {
        "id": "xlvcsRtuXXU7"
      },
      "execution_count": null,
      "outputs": []
    }
  ]
}