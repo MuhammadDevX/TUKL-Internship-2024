{
  "nbformat": 4,
  "nbformat_minor": 0,
  "metadata": {
    "colab": {
      "provenance": []
    },
    "kernelspec": {
      "name": "python3",
      "display_name": "Python 3"
    },
    "language_info": {
      "name": "python"
    }
  },
  "cells": [
    {
      "cell_type": "code",
      "execution_count": null,
      "metadata": {
        "id": "801uGPjFGps0"
      },
      "outputs": [],
      "source": [
        "import numpy as np\n",
        "import matplotlib.pyplot as plt\n",
        "# from public_tests import *\n",
        "\n",
        "%matplotlib inline"
      ]
    },
    {
      "cell_type": "code",
      "source": [
        "import numpy as np\n",
        "\n",
        "def compute_entropy_test(target):\n",
        "    y = np.array([1] * 10)\n",
        "    result = target(y)\n",
        "\n",
        "    assert result == 0, \"Entropy must be 0 with array of ones\"\n",
        "\n",
        "    y = np.array([0] * 10)\n",
        "    result = target(y)\n",
        "\n",
        "    assert result == 0, \"Entropy must be 0 with array of zeros\"\n",
        "\n",
        "    y = np.array([0] * 12 + [1] * 12)\n",
        "    result = target(y)\n",
        "\n",
        "    assert result == 1, \"Entropy must be 1 with same ammount of ones and zeros\"\n",
        "\n",
        "    y = np.array([1, 0, 1, 0, 1, 1, 1, 0, 1])\n",
        "    assert np.isclose(target(y), 0.918295, atol=1e-6), \"Wrong value. Something between 0 and 1\"\n",
        "    assert np.isclose(target(-y + 1), target(y), atol=1e-6), \"Wrong value\"\n",
        "\n",
        "    print(\"\\033[92m All tests passed.\")\n",
        "\n",
        "def split_dataset_test(target):\n",
        "    X = np.array([[1, 0],\n",
        "         [1, 0],\n",
        "         [1, 1],\n",
        "         [0, 0],\n",
        "         [0, 1]])\n",
        "    X_t = np.array([[0, 1, 0, 1, 0]])\n",
        "    X = np.concatenate((X, X_t.T), axis=1)\n",
        "\n",
        "    left, right = target(X, list(range(5)), 2)\n",
        "    expected = {'left': np.array([1, 3]),\n",
        "                'right': np.array([0, 2, 4])}\n",
        "\n",
        "    assert type(left) == list, f\"Wrong type for left. Expected: list got: {type(left)}\"\n",
        "    assert type(right) == list, f\"Wrong type for right. Expected: list got: {type(right)}\"\n",
        "\n",
        "    assert type(left[0]) == int, f\"Wrong type for elements in the left list. Expected: int got: {type(left[0])}\"\n",
        "    assert type(right[0]) == int, f\"Wrong type for elements in the right list. Expected: number got: {type(right[0])}\"\n",
        "\n",
        "    assert len(left) == 2, f\"left must have 2 elements but got: {len(left)}\"\n",
        "    assert len(right) == 3, f\"right must have 3 elements but got: {len(right)}\"\n",
        "\n",
        "    assert np.allclose(right, expected['right']), f\"Wrong value for right. Expected: { expected['right']} \\ngot: {right}\"\n",
        "    assert np.allclose(left, expected['left']), f\"Wrong value for left. Expected: { expected['left']} \\ngot: {left}\"\n",
        "\n",
        "    X = np.array([[0, 1],\n",
        "         [1, 1],\n",
        "         [1, 1],\n",
        "         [0, 0],\n",
        "         [1, 0]])\n",
        "    X_t = np.array([[0, 1, 0, 1, 0]])\n",
        "    X = np.concatenate((X_t.T, X), axis=1)\n",
        "\n",
        "    left, right = target(X, list(range(5)), 0)\n",
        "    expected = {'left': np.array([1, 3]),\n",
        "                'right': np.array([0, 2, 4])}\n",
        "\n",
        "    assert np.allclose(right, expected['right']) and np.allclose(left, expected['left']), f\"Wrong value when target is at index 0.\"\n",
        "\n",
        "    X = (np.random.rand(11, 3) > 0.5) * 1 # Just random binary numbers\n",
        "    X_t = np.array([[0, 1, 0, 1, 0, 1, 1, 0, 0, 0, 0]])\n",
        "    X = np.concatenate((X, X_t.T), axis=1)\n",
        "\n",
        "    left, right = target(X, [1, 2, 3, 6, 7, 9, 10], 3)\n",
        "    expected = {'left': np.array([1, 3, 6]),\n",
        "                'right': np.array([2, 7, 9, 10])}\n",
        "\n",
        "    assert np.allclose(right, expected['right']) and np.allclose(left, expected['left']), f\"Wrong value when target is at index 0. \\nExpected: {expected} \\ngot: \\{left:{left}, 'right': {right}\\}\"\n",
        "\n",
        "\n",
        "    print(\"\\033[92m All tests passed.\")\n",
        "\n",
        "def compute_information_gain_test(target):\n",
        "    X = np.array([[1, 0],\n",
        "         [1, 0],\n",
        "         [1, 0],\n",
        "         [0, 0],\n",
        "         [0, 1]])\n",
        "\n",
        "    y = np.array([[0, 0, 0, 0, 0]]).T\n",
        "    node_indexes = list(range(5))\n",
        "\n",
        "    result1 = target(X, y, node_indexes, 0)\n",
        "    result2 = target(X, y, node_indexes, 0)\n",
        "\n",
        "    assert result1 == 0 and result2 == 0, f\"Information gain must be 0 when target variable is pure. Got {result1} and {result2}\"\n",
        "\n",
        "    y = np.array([[0, 1, 0, 1, 0]]).T\n",
        "    node_indexes = list(range(5))\n",
        "\n",
        "    result = target(X, y, node_indexes, 0)\n",
        "    assert np.isclose(result, 0.019973, atol=1e-6), f\"Wrong information gain. Expected {0.019973} got: {result}\"\n",
        "\n",
        "    result = target(X, y, node_indexes, 1)\n",
        "    assert np.isclose(result, 0.170951, atol=1e-6), f\"Wrong information gain. Expected {0.170951} got: {result}\"\n",
        "\n",
        "    node_indexes = list(range(4))\n",
        "    result = target(X, y, node_indexes, 0)\n",
        "    assert np.isclose(result, 0.311278, atol=1e-6), f\"Wrong information gain. Expected {0.311278} got: {result}\"\n",
        "\n",
        "    result = target(X, y, node_indexes, 1)\n",
        "    assert np.isclose(result, 0, atol=1e-6), f\"Wrong information gain. Expected {0.0} got: {result}\"\n",
        "\n",
        "    print(\"\\033[92m All tests passed.\")\n",
        "\n",
        "def get_best_split_test(target):\n",
        "    X = np.array([[1, 0],\n",
        "         [1, 0],\n",
        "         [1, 0],\n",
        "         [0, 0],\n",
        "         [0, 1]])\n",
        "\n",
        "    y = np.array([[0, 0, 0, 0, 0]]).T\n",
        "    node_indexes = list(range(5))\n",
        "\n",
        "    result = target(X, y, node_indexes)\n",
        "\n",
        "    assert result == -1, f\"When the target variable is pure, there is no best split to do. Expected -1, got {result}\"\n",
        "\n",
        "    y = X[:,0]\n",
        "    result = target(X, y, node_indexes)\n",
        "    assert result == 0, f\"If the target is fully correlated with other feature, that feature must be the best split. Expected 0, got {result}\"\n",
        "    y = X[:,1]\n",
        "    result = target(X, y, node_indexes)\n",
        "    assert result == 1, f\"If the target is fully correlated with other feature, that feature must be the best split. Expected 1, got {result}\"\n",
        "\n",
        "    y = 1 - X[:,0]\n",
        "    result = target(X, y, node_indexes)\n",
        "    assert result == 0, f\"If the target is fully correlated with other feature, that feature must be the best split. Expected 0, got {result}\"\n",
        "\n",
        "    y = np.array([[0, 1, 0, 1, 0]]).T\n",
        "    result = target(X, y, node_indexes)\n",
        "    assert result == 1, f\"Wrong result. Expected 1, got {result}\"\n",
        "\n",
        "    y = np.array([[0, 1, 0, 1, 0]]).T\n",
        "    node_indexes = [2, 3, 4]\n",
        "    result = target(X, y, node_indexes)\n",
        "    assert result == 0, f\"Wrong result. Expected 0, got {result}\"\n",
        "\n",
        "    n_samples = 100\n",
        "    X0 = np.array([[1] * n_samples])\n",
        "    X1 = np.array([[0] * n_samples])\n",
        "    X2 = (np.random.rand(1, 100) > 0.5) * 1\n",
        "    X3 = np.array([[1] * int(n_samples / 2) + [0] * int(n_samples / 2)])\n",
        "\n",
        "    y = X2.T\n",
        "    node_indexes = list(range(20, 80))\n",
        "    X = np.array([X0, X1, X2, X3]).T.reshape(n_samples, 4)\n",
        "    result = target(X, y, node_indexes)\n",
        "\n",
        "    assert result == 2, f\"Wrong result. Expected 2, got {result}\"\n",
        "\n",
        "    y = X0.T\n",
        "    result = target(X, y, node_indexes)\n",
        "    assert result == -1, f\"When the target variable is pure, there is no best split to do. Expected -1, got {result}\"\n",
        "    print(\"\\033[92m All tests passed.\")"
      ],
      "metadata": {
        "id": "JRWjQHYAGwQQ"
      },
      "execution_count": null,
      "outputs": []
    },
    {
      "cell_type": "code",
      "source": [
        "X_train = np.array([[1,1,1],[1,0,1],[1,0,0],[1,0,0],[1,1,1],[0,1,1],[0,0,0],[1,0,1],[0,1,0],[1,0,0]])\n",
        "y_train = np.array([1,1,0,0,1,0,0,1,1,0])"
      ],
      "metadata": {
        "id": "PSiRv4GhG1Af"
      },
      "execution_count": null,
      "outputs": []
    },
    {
      "cell_type": "code",
      "source": [
        "def compute_entropy(y):\n",
        "  entropy = 0\n",
        "  if len(y) != 0:\n",
        "    p1 =  sum(y)/len(y)\n",
        "\n",
        "    if p1 != 0 and p1 != 1:\n",
        "      entropy = -p1 * np.log2(p1) - (1 - p1) * np.log2(1 - p1)\n",
        "    else:\n",
        "      entropy = 0\n",
        "\n",
        "  return entropy\n",
        "\n"
      ],
      "metadata": {
        "id": "V6Ni-4G1HIBz"
      },
      "execution_count": null,
      "outputs": []
    },
    {
      "cell_type": "code",
      "source": [
        "# Compute entropy at the root node (i.e. with all examples)\n",
        "# Since we have 5 edible and 5 non-edible mushrooms, the entropy should be 1\"\n",
        "\n",
        "print(\"Entropy at root node: \", compute_entropy(y_train))\n",
        "\n",
        "# UNIT TESTS\n",
        "compute_entropy_test(compute_entropy)\n"
      ],
      "metadata": {
        "colab": {
          "base_uri": "https://localhost:8080/"
        },
        "id": "1XPr8ZpwJmCY",
        "outputId": "c3e7b926-47c5-4ed9-b347-4f8fcd29a01d"
      },
      "execution_count": null,
      "outputs": [
        {
          "output_type": "stream",
          "name": "stdout",
          "text": [
            "Entropy at root node:  1.0\n",
            "\u001b[92m All tests passed.\n"
          ]
        }
      ]
    },
    {
      "cell_type": "code",
      "source": [
        "\n",
        "def split_dataset(X, node_indices, feature):\n",
        "    \"\"\"\n",
        "    Splits the data at the given node into\n",
        "    left and right branches\n",
        "\n",
        "    Args:\n",
        "        X (ndarray):             Data matrix of shape(n_samples, n_features)\n",
        "        node_indices (list):  List containing the active indices. I.e, the samples being considered at this step.\n",
        "        feature (int):           Index of feature to split on\n",
        "\n",
        "    Returns:\n",
        "        left_indices (list): Indices with feature value == 1\n",
        "        right_indices (list): Indices with feature value == 0\n",
        "    \"\"\"\n",
        "\n",
        "    # You need to return the following variables correctly\n",
        "    left_indices = []\n",
        "    right_indices = []\n",
        "\n",
        "    ### START CODE HERE ###\n",
        "    for i in node_indices:\n",
        "        if X[i][feature] == 1:\n",
        "            left_indices.append(i)\n",
        "        else:\n",
        "            right_indices.append(i)\n",
        "    ### END CODE HERE ###\n",
        "\n",
        "    return left_indices, right_indices"
      ],
      "metadata": {
        "id": "HWdcKt6rJrrG"
      },
      "execution_count": null,
      "outputs": []
    },
    {
      "cell_type": "code",
      "source": [
        "root_indices = [0, 1, 2, 3, 4, 5, 6, 7, 8, 9]\n",
        "\n",
        "# Feel free to play around with these variables\n",
        "# The dataset only has three features, so this value can be 0 (Brown Cap), 1 (Tapering Stalk Shape) or 2 (Solitary)\n",
        "feature = 0\n",
        "\n",
        "left_indices, right_indices = split_dataset(X_train, root_indices, feature)\n",
        "\n",
        "print(\"Left indices: \", left_indices)\n",
        "print(\"Right indices: \", right_indices)\n",
        "\n",
        "# UNIT TESTS\n",
        "split_dataset_test(split_dataset)"
      ],
      "metadata": {
        "colab": {
          "base_uri": "https://localhost:8080/"
        },
        "id": "sW99jQRcKHwt",
        "outputId": "fc61ee42-859b-477b-e9fb-7eaa907eb314"
      },
      "execution_count": null,
      "outputs": [
        {
          "output_type": "stream",
          "name": "stdout",
          "text": [
            "Left indices:  [0, 1, 2, 3, 4, 7, 9]\n",
            "Right indices:  [5, 6, 8]\n",
            "\u001b[92m All tests passed.\n"
          ]
        }
      ]
    },
    {
      "cell_type": "code",
      "source": [
        "def compute_information_gain(X, y, node_indices, feature):\n",
        "\n",
        "    \"\"\"\n",
        "    Compute the information of splitting the node on a given feature\n",
        "\n",
        "    Args:\n",
        "        X (ndarray):            Data matrix of shape(n_samples, n_features)\n",
        "        y (array like):         list or ndarray with n_samples containing the target variable\n",
        "        node_indices (ndarray): List containing the active indices. I.e, the samples being considered in this step.\n",
        "\n",
        "    Returns:\n",
        "        cost (float):        Cost computed\n",
        "\n",
        "    \"\"\"\n",
        "    # Split dataset\n",
        "    left_indices, right_indices = split_dataset(X, node_indices, feature)\n",
        "\n",
        "    # Some useful variables\n",
        "    X_node, y_node = X[node_indices], y[node_indices]\n",
        "    X_left, y_left = X[left_indices], y[left_indices]\n",
        "    X_right, y_right = X[right_indices], y[right_indices]\n",
        "\n",
        "    # You need to return the following variables correctly\n",
        "    information_gain = 0\n",
        "\n",
        "    ### START CODE HERE ###\n",
        "    node_entropy = compute_entropy(y_node)\n",
        "    left_entropy = compute_entropy(y_left)\n",
        "    right_entropy = compute_entropy(y_right)\n",
        "\n",
        "    # Weights\n",
        "    w_left = len(X_left) / len(X_node)\n",
        "    w_right = len(X_right) / len(X_node)\n",
        "\n",
        "    #Weighted entropy\n",
        "    weighted_entropy = w_left * left_entropy + w_right * right_entropy\n",
        "\n",
        "    #Information gain\n",
        "    information_gain = node_entropy - weighted_entropy\n",
        "\n",
        "    ### END CODE HERE ###\n",
        "\n",
        "    return information_gain"
      ],
      "metadata": {
        "id": "YPXwEmoiKU4g"
      },
      "execution_count": null,
      "outputs": []
    },
    {
      "cell_type": "code",
      "source": [
        "info_gain0 = compute_information_gain(X_train, y_train, root_indices, feature=0)\n",
        "print(\"Information Gain from splitting the root on brown cap: \", info_gain0)\n",
        "\n",
        "info_gain1 = compute_information_gain(X_train, y_train, root_indices, feature=1)\n",
        "print(\"Information Gain from splitting the root on tapering stalk shape: \", info_gain1)\n",
        "\n",
        "info_gain2 = compute_information_gain(X_train, y_train, root_indices, feature=2)\n",
        "print(\"Information Gain from splitting the root on solitary: \", info_gain2)\n",
        "\n",
        "# UNIT TESTS\n",
        "compute_information_gain_test(compute_information_gain)"
      ],
      "metadata": {
        "colab": {
          "base_uri": "https://localhost:8080/"
        },
        "id": "4yJLv3bIK5b7",
        "outputId": "2d80381e-d69b-48c1-fe07-d0876103c508"
      },
      "execution_count": null,
      "outputs": [
        {
          "output_type": "stream",
          "name": "stdout",
          "text": [
            "Information Gain from splitting the root on brown cap:  0.034851554559677034\n",
            "Information Gain from splitting the root on tapering stalk shape:  0.12451124978365313\n",
            "Information Gain from splitting the root on solitary:  0.2780719051126377\n",
            "\u001b[92m All tests passed.\n"
          ]
        }
      ]
    },
    {
      "cell_type": "code",
      "source": [
        "\n",
        "def get_best_split(X, y, node_indices):\n",
        "    \"\"\"\n",
        "    Returns the optimal feature and threshold value\n",
        "    to split the node data\n",
        "\n",
        "    Args:\n",
        "        X (ndarray):            Data matrix of shape(n_samples, n_features)\n",
        "        y (array like):         list or ndarray with n_samples containing the target variable\n",
        "        node_indices (ndarray): List containing the active indices. I.e, the samples being considered in this step.\n",
        "\n",
        "    Returns:\n",
        "        best_feature (int):     The index of the best feature to split\n",
        "    \"\"\"\n",
        "\n",
        "    # Some useful variables\n",
        "    num_features = X.shape[1]\n",
        "\n",
        "    # You need to return the following variables correctly\n",
        "    best_feature = -1\n",
        "\n",
        "    ### START CODE HERE ###\n",
        "    max_info_gain=0\n",
        "    for feature in range(num_features):\n",
        "        info_gain = compute_information_gain(X, y, node_indices, feature)\n",
        "        if info_gain > max_info_gain:\n",
        "            max_info_gain = info_gain\n",
        "            best_feature = feature\n",
        "\n",
        "\n",
        "    ### END CODE HERE ##\n",
        "\n",
        "    return best_feature"
      ],
      "metadata": {
        "id": "kpdBYirZK9IH"
      },
      "execution_count": null,
      "outputs": []
    },
    {
      "cell_type": "code",
      "source": [
        "best_feature = get_best_split(X_train, y_train, root_indices)\n",
        "print(\"Best feature to split on: %d\" % best_feature)\n",
        "\n",
        "# UNIT TESTS\n",
        "get_best_split_test(get_best_split)"
      ],
      "metadata": {
        "colab": {
          "base_uri": "https://localhost:8080/"
        },
        "id": "PFlpLHzVLEyi",
        "outputId": "605635bd-bc4a-4cd7-97dc-9e1ec0cd0884"
      },
      "execution_count": null,
      "outputs": [
        {
          "output_type": "stream",
          "name": "stdout",
          "text": [
            "Best feature to split on: 2\n",
            "\u001b[92m All tests passed.\n"
          ]
        }
      ]
    },
    {
      "cell_type": "code",
      "source": [],
      "metadata": {
        "id": "_kB35NyOLJfm"
      },
      "execution_count": null,
      "outputs": []
    }
  ]
}